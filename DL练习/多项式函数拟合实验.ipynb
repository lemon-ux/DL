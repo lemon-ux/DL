{
 "cells": [
  {
   "cell_type": "code",
   "execution_count": 9,
   "metadata": {},
   "outputs": [],
   "source": [
    "%matplotlib inline\n",
    "import torch\n",
    "import numpy as np\n",
    "import sys\n",
    "sys.path.append('..')\n",
    "import d2lzh_pytorch as d2l"
   ]
  },
  {
   "cell_type": "code",
   "execution_count": 10,
   "metadata": {},
   "outputs": [],
   "source": [
    "# 生成人工数据集 ，给定样本特征x ，使用三阶多项式函数生成样本标签y\n",
    "# y = 1.2x - 3.4x^2 + 5.6x^3 + 5 + c\n",
    "# 噪声项 c 服从均值为0，标准差为0.01的正态分布\n",
    "\n",
    "n_train, n_test, true_w, true_b = 100, 100, [1.2, -3.4, 5.6], 5\n",
    "features = torch.randn((n_train + n_test, 1))\n",
    "\n",
    "# 将张量x,x^2,x^3拼接联系在一起\n",
    "poly_features = torch.cat((features, torch.pow(features, 2), torch.pow(features, 3)), 1)\n",
    "\n",
    "labels = (true_w[0] * poly_features[:, 0] + true_w[1] * poly_features[:, 1] + true_w[2] * poly_features[:, 2] + true_b)\n",
    "labels += torch.tensor(np.random.normal(0, 0.01, size=labels.size()), dtype=torch.float)"
   ]
  },
  {
   "cell_type": "code",
   "execution_count": 11,
   "metadata": {},
   "outputs": [
    {
     "name": "stdout",
     "output_type": "stream",
     "text": [
      "torch.Size([200, 1])\n",
      "torch.Size([200, 3])\n",
      "torch.Size([200])\n"
     ]
    },
    {
     "data": {
      "text/plain": [
       "(tensor([[-0.0207],\n",
       "         [-0.6851]]),\n",
       " tensor([[-2.0705e-02,  4.2868e-04, -8.8756e-06],\n",
       "         [-6.8508e-01,  4.6933e-01, -3.2153e-01]]),\n",
       " tensor([4.9702, 0.7755]))"
      ]
     },
     "execution_count": 11,
     "metadata": {},
     "output_type": "execute_result"
    }
   ],
   "source": [
    "print(features.size())\n",
    "print(poly_features.size())\n",
    "print(labels.size())\n",
    "\n",
    "features[:2], poly_features[:2], labels[:2]"
   ]
  },
  {
   "cell_type": "code",
   "execution_count": 20,
   "metadata": {},
   "outputs": [],
   "source": [
    "#定义作图函数\n",
    "def semilogy(x_vals, y_vals, x_label, y_label, \n",
    "             x2_vals=None, y2_legend=None, figsize=(3.5, 2.5)):\n",
    "    d2l.set_figsize(figsize)\n",
    "    d2l.plt.xlabel(x_label)\n",
    "    d2l.plt.ylabel(y_label)\n",
    "    d2l.plt.semilogy(x_vals, y_vals)\n",
    "    if x2_vals and y2_vals:\n",
    "        d2l.plt.semilogy(x2_vals, y2_vals, linestyle=':')\n",
    "        d2l.plt.legend(legend)"
   ]
  },
  {
   "cell_type": "code",
   "execution_count": 32,
   "metadata": {},
   "outputs": [],
   "source": [
    "num_epochs, loss = 100, torch.nn.MSELoss()\n",
    "\n",
    "def fit_and_plot(train_features, test_features, train_labels, test_labels):\n",
    "    net = torch.nn.Linear(train_features.shape[-1], 1)\n",
    "    # 通过Linear文档可知，pytorch已经将参数初始化了，所以我们这里就不手动初始化了\n",
    "\n",
    "    batch_size = min(10, train_labels.shape[0])    \n",
    "    dataset = torch.utils.data.TensorDataset(train_features, train_labels)\n",
    "    train_iter = torch.utils.data.DataLoader(dataset, batch_size, shuffle=True)\n",
    "\n",
    "    optimizer = torch.optim.SGD(net.parameters(), lr=0.01)\n",
    "    train_ls, test_ls = [], []\n",
    "    for _ in range(num_epochs):\n",
    "        for X, y in train_iter:\n",
    "            l = loss(net(X), y.view(-1, 1))\n",
    "            optimizer.zero_grad()\n",
    "            l.backward()\n",
    "            optimizer.step()\n",
    "        train_labels = train_labels.view(-1, 1)\n",
    "        test_labels = test_labels.view(-1, 1)\n",
    "        train_ls.append(loss(net(train_features), train_labels).item())\n",
    "        test_ls.append(loss(net(test_features), test_labels).item())\n",
    "    print('final epoch: train loss', train_ls[-1], 'test loss', test_ls[-1])\n",
    "    semilogy(range(1, num_epochs + 1), train_ls, 'epochs', 'loss',\n",
    "             range(1, num_epochs + 1), test_ls,['train','test'])\n",
    "    print('weight:', net.weight.data,\n",
    "          '\\nbias:', net.bias.data)"
   ]
  },
  {
   "cell_type": "code",
   "execution_count": 33,
   "metadata": {},
   "outputs": [
    {
     "name": "stdout",
     "output_type": "stream",
     "text": [
      "final epoch: train loss 6.0769834817619994e-05 test loss 0.0001229446497745812\n"
     ]
    },
    {
     "ename": "ValueError",
     "evalue": "Key figure.figsize: Could not convert tensor([[   4.9702],\n        [   0.7755],\n        [   5.9491],\n        [  40.8281],\n        [ -29.7226],\n        [  -4.9296],\n        [   5.2034],\n        [  17.0397],\n        [   5.6331],\n        [ -14.9966],\n        [  10.8676],\n        [  27.7880],\n        [  29.6420],\n        [  34.0326],\n        [  21.0908],\n        [  11.6101],\n        [   4.3396],\n        [   5.6087],\n        [   5.1561],\n        [   5.1506],\n        [   4.9802],\n        [   5.6847],\n        [  -8.4813],\n        [   6.4018],\n        [   4.3325],\n        [   4.9282],\n        [  11.3135],\n        [   5.1759],\n        [   5.1293],\n        [  24.3923],\n        [ 212.9212],\n        [   5.9929],\n        [ -15.6709],\n        [   2.1853],\n        [   5.3006],\n        [   3.5576],\n        [  25.0771],\n        [  -4.2024],\n        [   5.0877],\n        [   4.5528],\n        [   5.4271],\n        [ -25.6411],\n        [   0.7366],\n        [   5.0249],\n        [ -11.3753],\n        [   7.6511],\n        [  53.9194],\n        [   4.8798],\n        [ -37.4269],\n        [   5.1693],\n        [  -2.0070],\n        [   1.4944],\n        [  58.8091],\n        [   0.7585],\n        [ -17.2258],\n        [   8.9076],\n        [  32.0676],\n        [   4.5055],\n        [   6.0849],\n        [   6.1485],\n        [   1.4298],\n        [   3.6431],\n        [   4.8161],\n        [-122.1467],\n        [  20.1830],\n        [  -0.8395],\n        [  12.2470],\n        [  10.3224],\n        [  17.5297],\n        [-177.2251],\n        [   5.0581],\n        [   1.3656],\n        [   1.3131],\n        [   5.1375],\n        [ -30.6388],\n        [   4.7362],\n        [ -17.2037],\n        [   5.2777],\n        [   7.7508],\n        [   6.8574],\n        [   5.3426],\n        [   4.7263],\n        [  -3.9709],\n        [   5.4931],\n        [   1.8631],\n        [  17.7867],\n        [   5.7085],\n        [   5.8020],\n        [   1.4648],\n        [   5.2109],\n        [   5.0256],\n        [   4.9583],\n        [   3.9507],\n        [   5.4871],\n        [   6.0907],\n        [   3.8284],\n        [   4.0011],\n        [   5.2399],\n        [  20.5912],\n        [   4.4776]]) to float",
     "output_type": "error",
     "traceback": [
      "\u001b[1;31m---------------------------------------------------------------------------\u001b[0m",
      "\u001b[1;31mValueError\u001b[0m                                Traceback (most recent call last)",
      "\u001b[1;32m<ipython-input-33-41e21bb3b30d>\u001b[0m in \u001b[0;36m<module>\u001b[1;34m\u001b[0m\n\u001b[1;32m----> 1\u001b[1;33m fit_and_plot(poly_features[:n_train, :], poly_features[n_train:, :], \n\u001b[0m\u001b[0;32m      2\u001b[0m             labels[:n_train], labels[n_train:])\n",
      "\u001b[1;32m<ipython-input-32-443c2809c703>\u001b[0m in \u001b[0;36mfit_and_plot\u001b[1;34m(train_features, test_features, train_labels, test_labels)\u001b[0m\n\u001b[0;32m     22\u001b[0m         \u001b[0mtest_ls\u001b[0m\u001b[1;33m.\u001b[0m\u001b[0mappend\u001b[0m\u001b[1;33m(\u001b[0m\u001b[0mloss\u001b[0m\u001b[1;33m(\u001b[0m\u001b[0mnet\u001b[0m\u001b[1;33m(\u001b[0m\u001b[0mtest_features\u001b[0m\u001b[1;33m)\u001b[0m\u001b[1;33m,\u001b[0m \u001b[0mtest_labels\u001b[0m\u001b[1;33m)\u001b[0m\u001b[1;33m.\u001b[0m\u001b[0mitem\u001b[0m\u001b[1;33m(\u001b[0m\u001b[1;33m)\u001b[0m\u001b[1;33m)\u001b[0m\u001b[1;33m\u001b[0m\u001b[1;33m\u001b[0m\u001b[0m\n\u001b[0;32m     23\u001b[0m     \u001b[0mprint\u001b[0m\u001b[1;33m(\u001b[0m\u001b[1;34m'final epoch: train loss'\u001b[0m\u001b[1;33m,\u001b[0m \u001b[0mtrain_ls\u001b[0m\u001b[1;33m[\u001b[0m\u001b[1;33m-\u001b[0m\u001b[1;36m1\u001b[0m\u001b[1;33m]\u001b[0m\u001b[1;33m,\u001b[0m \u001b[1;34m'test loss'\u001b[0m\u001b[1;33m,\u001b[0m \u001b[0mtest_ls\u001b[0m\u001b[1;33m[\u001b[0m\u001b[1;33m-\u001b[0m\u001b[1;36m1\u001b[0m\u001b[1;33m]\u001b[0m\u001b[1;33m)\u001b[0m\u001b[1;33m\u001b[0m\u001b[1;33m\u001b[0m\u001b[0m\n\u001b[1;32m---> 24\u001b[1;33m     semilogy(range(1, num_epochs + 1), train_ls, 'epochs', 'loss',\n\u001b[0m\u001b[0;32m     25\u001b[0m              range(1, num_epochs + 1), test_ls,[train_labels,test_labels])\n\u001b[0;32m     26\u001b[0m     print('weight:', net.weight.data,\n",
      "\u001b[1;32m<ipython-input-20-a05ecb0d9c42>\u001b[0m in \u001b[0;36msemilogy\u001b[1;34m(x_vals, y_vals, x_label, y_label, x2_vals, y2_legend, figsize)\u001b[0m\n\u001b[0;32m      2\u001b[0m def semilogy(x_vals, y_vals, x_label, y_label, \n\u001b[0;32m      3\u001b[0m              x2_vals=None, y2_legend=None, figsize=(3.5, 2.5)):\n\u001b[1;32m----> 4\u001b[1;33m     \u001b[0md2l\u001b[0m\u001b[1;33m.\u001b[0m\u001b[0mset_figsize\u001b[0m\u001b[1;33m(\u001b[0m\u001b[0mfigsize\u001b[0m\u001b[1;33m)\u001b[0m\u001b[1;33m\u001b[0m\u001b[1;33m\u001b[0m\u001b[0m\n\u001b[0m\u001b[0;32m      5\u001b[0m     \u001b[0md2l\u001b[0m\u001b[1;33m.\u001b[0m\u001b[0mplt\u001b[0m\u001b[1;33m.\u001b[0m\u001b[0mxlabel\u001b[0m\u001b[1;33m(\u001b[0m\u001b[0mx_label\u001b[0m\u001b[1;33m)\u001b[0m\u001b[1;33m\u001b[0m\u001b[1;33m\u001b[0m\u001b[0m\n\u001b[0;32m      6\u001b[0m     \u001b[0md2l\u001b[0m\u001b[1;33m.\u001b[0m\u001b[0mplt\u001b[0m\u001b[1;33m.\u001b[0m\u001b[0mylabel\u001b[0m\u001b[1;33m(\u001b[0m\u001b[0my_label\u001b[0m\u001b[1;33m)\u001b[0m\u001b[1;33m\u001b[0m\u001b[1;33m\u001b[0m\u001b[0m\n",
      "\u001b[1;32m~\\d2lzh_pytorch.py\u001b[0m in \u001b[0;36mset_figsize\u001b[1;34m(figsize)\u001b[0m\n\u001b[0;32m     40\u001b[0m     \u001b[0muse_svg_display\u001b[0m\u001b[1;33m(\u001b[0m\u001b[1;33m)\u001b[0m\u001b[1;33m\u001b[0m\u001b[1;33m\u001b[0m\u001b[0m\n\u001b[0;32m     41\u001b[0m     \u001b[1;31m# 设置图的尺寸\u001b[0m\u001b[1;33m\u001b[0m\u001b[1;33m\u001b[0m\u001b[1;33m\u001b[0m\u001b[0m\n\u001b[1;32m---> 42\u001b[1;33m     \u001b[0mplt\u001b[0m\u001b[1;33m.\u001b[0m\u001b[0mrcParams\u001b[0m\u001b[1;33m[\u001b[0m\u001b[1;34m'figure.figsize'\u001b[0m\u001b[1;33m]\u001b[0m \u001b[1;33m=\u001b[0m \u001b[0mfigsize\u001b[0m\u001b[1;33m\u001b[0m\u001b[1;33m\u001b[0m\u001b[0m\n\u001b[0m\u001b[0;32m     43\u001b[0m \u001b[1;33m\u001b[0m\u001b[0m\n\u001b[0;32m     44\u001b[0m \u001b[1;32mdef\u001b[0m \u001b[0muse_svg_display\u001b[0m\u001b[1;33m(\u001b[0m\u001b[1;33m)\u001b[0m\u001b[1;33m:\u001b[0m\u001b[1;33m\u001b[0m\u001b[1;33m\u001b[0m\u001b[0m\n",
      "\u001b[1;32mD:\\Anaconda\\lib\\site-packages\\matplotlib\\__init__.py\u001b[0m in \u001b[0;36m__setitem__\u001b[1;34m(self, key, val)\u001b[0m\n\u001b[0;32m    677\u001b[0m                 \u001b[0mcval\u001b[0m \u001b[1;33m=\u001b[0m \u001b[0mself\u001b[0m\u001b[1;33m.\u001b[0m\u001b[0mvalidate\u001b[0m\u001b[1;33m[\u001b[0m\u001b[0mkey\u001b[0m\u001b[1;33m]\u001b[0m\u001b[1;33m(\u001b[0m\u001b[0mval\u001b[0m\u001b[1;33m)\u001b[0m\u001b[1;33m\u001b[0m\u001b[1;33m\u001b[0m\u001b[0m\n\u001b[0;32m    678\u001b[0m             \u001b[1;32mexcept\u001b[0m \u001b[0mValueError\u001b[0m \u001b[1;32mas\u001b[0m \u001b[0mve\u001b[0m\u001b[1;33m:\u001b[0m\u001b[1;33m\u001b[0m\u001b[1;33m\u001b[0m\u001b[0m\n\u001b[1;32m--> 679\u001b[1;33m                 \u001b[1;32mraise\u001b[0m \u001b[0mValueError\u001b[0m\u001b[1;33m(\u001b[0m\u001b[1;34mf\"Key {key}: {ve}\"\u001b[0m\u001b[1;33m)\u001b[0m \u001b[1;32mfrom\u001b[0m \u001b[1;32mNone\u001b[0m\u001b[1;33m\u001b[0m\u001b[1;33m\u001b[0m\u001b[0m\n\u001b[0m\u001b[0;32m    680\u001b[0m             \u001b[0mdict\u001b[0m\u001b[1;33m.\u001b[0m\u001b[0m__setitem__\u001b[0m\u001b[1;33m(\u001b[0m\u001b[0mself\u001b[0m\u001b[1;33m,\u001b[0m \u001b[0mkey\u001b[0m\u001b[1;33m,\u001b[0m \u001b[0mcval\u001b[0m\u001b[1;33m)\u001b[0m\u001b[1;33m\u001b[0m\u001b[1;33m\u001b[0m\u001b[0m\n\u001b[0;32m    681\u001b[0m         \u001b[1;32mexcept\u001b[0m \u001b[0mKeyError\u001b[0m \u001b[1;32mas\u001b[0m \u001b[0merr\u001b[0m\u001b[1;33m:\u001b[0m\u001b[1;33m\u001b[0m\u001b[1;33m\u001b[0m\u001b[0m\n",
      "\u001b[1;31mValueError\u001b[0m: Key figure.figsize: Could not convert tensor([[   4.9702],\n        [   0.7755],\n        [   5.9491],\n        [  40.8281],\n        [ -29.7226],\n        [  -4.9296],\n        [   5.2034],\n        [  17.0397],\n        [   5.6331],\n        [ -14.9966],\n        [  10.8676],\n        [  27.7880],\n        [  29.6420],\n        [  34.0326],\n        [  21.0908],\n        [  11.6101],\n        [   4.3396],\n        [   5.6087],\n        [   5.1561],\n        [   5.1506],\n        [   4.9802],\n        [   5.6847],\n        [  -8.4813],\n        [   6.4018],\n        [   4.3325],\n        [   4.9282],\n        [  11.3135],\n        [   5.1759],\n        [   5.1293],\n        [  24.3923],\n        [ 212.9212],\n        [   5.9929],\n        [ -15.6709],\n        [   2.1853],\n        [   5.3006],\n        [   3.5576],\n        [  25.0771],\n        [  -4.2024],\n        [   5.0877],\n        [   4.5528],\n        [   5.4271],\n        [ -25.6411],\n        [   0.7366],\n        [   5.0249],\n        [ -11.3753],\n        [   7.6511],\n        [  53.9194],\n        [   4.8798],\n        [ -37.4269],\n        [   5.1693],\n        [  -2.0070],\n        [   1.4944],\n        [  58.8091],\n        [   0.7585],\n        [ -17.2258],\n        [   8.9076],\n        [  32.0676],\n        [   4.5055],\n        [   6.0849],\n        [   6.1485],\n        [   1.4298],\n        [   3.6431],\n        [   4.8161],\n        [-122.1467],\n        [  20.1830],\n        [  -0.8395],\n        [  12.2470],\n        [  10.3224],\n        [  17.5297],\n        [-177.2251],\n        [   5.0581],\n        [   1.3656],\n        [   1.3131],\n        [   5.1375],\n        [ -30.6388],\n        [   4.7362],\n        [ -17.2037],\n        [   5.2777],\n        [   7.7508],\n        [   6.8574],\n        [   5.3426],\n        [   4.7263],\n        [  -3.9709],\n        [   5.4931],\n        [   1.8631],\n        [  17.7867],\n        [   5.7085],\n        [   5.8020],\n        [   1.4648],\n        [   5.2109],\n        [   5.0256],\n        [   4.9583],\n        [   3.9507],\n        [   5.4871],\n        [   6.0907],\n        [   3.8284],\n        [   4.0011],\n        [   5.2399],\n        [  20.5912],\n        [   4.4776]]) to float"
     ]
    }
   ],
   "source": [
    "fit_and_plot(poly_features[:n_train, :], poly_features[n_train:, :], \n",
    "            labels[:n_train], labels[n_train:])"
   ]
  },
  {
   "cell_type": "code",
   "execution_count": 23,
   "metadata": {},
   "outputs": [
    {
     "name": "stdout",
     "output_type": "stream",
     "text": [
      "final epoch: train loss 462.03460693359375 test loss 158.6803741455078\n"
     ]
    },
    {
     "ename": "ValueError",
     "evalue": "Key figure.figsize: Could not convert 'train' to float",
     "output_type": "error",
     "traceback": [
      "\u001b[1;31m---------------------------------------------------------------------------\u001b[0m",
      "\u001b[1;31mValueError\u001b[0m                                Traceback (most recent call last)",
      "\u001b[1;32m<ipython-input-23-ada3632f1a89>\u001b[0m in \u001b[0;36m<module>\u001b[1;34m\u001b[0m\n\u001b[1;32m----> 1\u001b[1;33m fit_and_plot(features[:n_train, :], features[n_train:, :], labels[:n_train],\n\u001b[0m\u001b[0;32m      2\u001b[0m              labels[n_train:])\n",
      "\u001b[1;32m<ipython-input-21-1c9ec16003c7>\u001b[0m in \u001b[0;36mfit_and_plot\u001b[1;34m(train_features, test_features, train_labels, test_labels)\u001b[0m\n\u001b[0;32m     22\u001b[0m         \u001b[0mtest_ls\u001b[0m\u001b[1;33m.\u001b[0m\u001b[0mappend\u001b[0m\u001b[1;33m(\u001b[0m\u001b[0mloss\u001b[0m\u001b[1;33m(\u001b[0m\u001b[0mnet\u001b[0m\u001b[1;33m(\u001b[0m\u001b[0mtest_features\u001b[0m\u001b[1;33m)\u001b[0m\u001b[1;33m,\u001b[0m \u001b[0mtest_labels\u001b[0m\u001b[1;33m)\u001b[0m\u001b[1;33m.\u001b[0m\u001b[0mitem\u001b[0m\u001b[1;33m(\u001b[0m\u001b[1;33m)\u001b[0m\u001b[1;33m)\u001b[0m\u001b[1;33m\u001b[0m\u001b[1;33m\u001b[0m\u001b[0m\n\u001b[0;32m     23\u001b[0m     \u001b[0mprint\u001b[0m\u001b[1;33m(\u001b[0m\u001b[1;34m'final epoch: train loss'\u001b[0m\u001b[1;33m,\u001b[0m \u001b[0mtrain_ls\u001b[0m\u001b[1;33m[\u001b[0m\u001b[1;33m-\u001b[0m\u001b[1;36m1\u001b[0m\u001b[1;33m]\u001b[0m\u001b[1;33m,\u001b[0m \u001b[1;34m'test loss'\u001b[0m\u001b[1;33m,\u001b[0m \u001b[0mtest_ls\u001b[0m\u001b[1;33m[\u001b[0m\u001b[1;33m-\u001b[0m\u001b[1;36m1\u001b[0m\u001b[1;33m]\u001b[0m\u001b[1;33m)\u001b[0m\u001b[1;33m\u001b[0m\u001b[1;33m\u001b[0m\u001b[0m\n\u001b[1;32m---> 24\u001b[1;33m     semilogy(range(1, num_epochs + 1), train_ls, 'epochs', 'loss',\n\u001b[0m\u001b[0;32m     25\u001b[0m              range(1, num_epochs + 1), test_ls, ['train', 'test'])\n\u001b[0;32m     26\u001b[0m     print('weight:', net.weight.data,\n",
      "\u001b[1;32m<ipython-input-20-a05ecb0d9c42>\u001b[0m in \u001b[0;36msemilogy\u001b[1;34m(x_vals, y_vals, x_label, y_label, x2_vals, y2_legend, figsize)\u001b[0m\n\u001b[0;32m      2\u001b[0m def semilogy(x_vals, y_vals, x_label, y_label, \n\u001b[0;32m      3\u001b[0m              x2_vals=None, y2_legend=None, figsize=(3.5, 2.5)):\n\u001b[1;32m----> 4\u001b[1;33m     \u001b[0md2l\u001b[0m\u001b[1;33m.\u001b[0m\u001b[0mset_figsize\u001b[0m\u001b[1;33m(\u001b[0m\u001b[0mfigsize\u001b[0m\u001b[1;33m)\u001b[0m\u001b[1;33m\u001b[0m\u001b[1;33m\u001b[0m\u001b[0m\n\u001b[0m\u001b[0;32m      5\u001b[0m     \u001b[0md2l\u001b[0m\u001b[1;33m.\u001b[0m\u001b[0mplt\u001b[0m\u001b[1;33m.\u001b[0m\u001b[0mxlabel\u001b[0m\u001b[1;33m(\u001b[0m\u001b[0mx_label\u001b[0m\u001b[1;33m)\u001b[0m\u001b[1;33m\u001b[0m\u001b[1;33m\u001b[0m\u001b[0m\n\u001b[0;32m      6\u001b[0m     \u001b[0md2l\u001b[0m\u001b[1;33m.\u001b[0m\u001b[0mplt\u001b[0m\u001b[1;33m.\u001b[0m\u001b[0mylabel\u001b[0m\u001b[1;33m(\u001b[0m\u001b[0my_label\u001b[0m\u001b[1;33m)\u001b[0m\u001b[1;33m\u001b[0m\u001b[1;33m\u001b[0m\u001b[0m\n",
      "\u001b[1;32m~\\d2lzh_pytorch.py\u001b[0m in \u001b[0;36mset_figsize\u001b[1;34m(figsize)\u001b[0m\n\u001b[0;32m     40\u001b[0m     \u001b[0muse_svg_display\u001b[0m\u001b[1;33m(\u001b[0m\u001b[1;33m)\u001b[0m\u001b[1;33m\u001b[0m\u001b[1;33m\u001b[0m\u001b[0m\n\u001b[0;32m     41\u001b[0m     \u001b[1;31m# 设置图的尺寸\u001b[0m\u001b[1;33m\u001b[0m\u001b[1;33m\u001b[0m\u001b[1;33m\u001b[0m\u001b[0m\n\u001b[1;32m---> 42\u001b[1;33m     \u001b[0mplt\u001b[0m\u001b[1;33m.\u001b[0m\u001b[0mrcParams\u001b[0m\u001b[1;33m[\u001b[0m\u001b[1;34m'figure.figsize'\u001b[0m\u001b[1;33m]\u001b[0m \u001b[1;33m=\u001b[0m \u001b[0mfigsize\u001b[0m\u001b[1;33m\u001b[0m\u001b[1;33m\u001b[0m\u001b[0m\n\u001b[0m\u001b[0;32m     43\u001b[0m \u001b[1;33m\u001b[0m\u001b[0m\n\u001b[0;32m     44\u001b[0m \u001b[1;32mdef\u001b[0m \u001b[0muse_svg_display\u001b[0m\u001b[1;33m(\u001b[0m\u001b[1;33m)\u001b[0m\u001b[1;33m:\u001b[0m\u001b[1;33m\u001b[0m\u001b[1;33m\u001b[0m\u001b[0m\n",
      "\u001b[1;32mD:\\Anaconda\\lib\\site-packages\\matplotlib\\__init__.py\u001b[0m in \u001b[0;36m__setitem__\u001b[1;34m(self, key, val)\u001b[0m\n\u001b[0;32m    677\u001b[0m                 \u001b[0mcval\u001b[0m \u001b[1;33m=\u001b[0m \u001b[0mself\u001b[0m\u001b[1;33m.\u001b[0m\u001b[0mvalidate\u001b[0m\u001b[1;33m[\u001b[0m\u001b[0mkey\u001b[0m\u001b[1;33m]\u001b[0m\u001b[1;33m(\u001b[0m\u001b[0mval\u001b[0m\u001b[1;33m)\u001b[0m\u001b[1;33m\u001b[0m\u001b[1;33m\u001b[0m\u001b[0m\n\u001b[0;32m    678\u001b[0m             \u001b[1;32mexcept\u001b[0m \u001b[0mValueError\u001b[0m \u001b[1;32mas\u001b[0m \u001b[0mve\u001b[0m\u001b[1;33m:\u001b[0m\u001b[1;33m\u001b[0m\u001b[1;33m\u001b[0m\u001b[0m\n\u001b[1;32m--> 679\u001b[1;33m                 \u001b[1;32mraise\u001b[0m \u001b[0mValueError\u001b[0m\u001b[1;33m(\u001b[0m\u001b[1;34mf\"Key {key}: {ve}\"\u001b[0m\u001b[1;33m)\u001b[0m \u001b[1;32mfrom\u001b[0m \u001b[1;32mNone\u001b[0m\u001b[1;33m\u001b[0m\u001b[1;33m\u001b[0m\u001b[0m\n\u001b[0m\u001b[0;32m    680\u001b[0m             \u001b[0mdict\u001b[0m\u001b[1;33m.\u001b[0m\u001b[0m__setitem__\u001b[0m\u001b[1;33m(\u001b[0m\u001b[0mself\u001b[0m\u001b[1;33m,\u001b[0m \u001b[0mkey\u001b[0m\u001b[1;33m,\u001b[0m \u001b[0mcval\u001b[0m\u001b[1;33m)\u001b[0m\u001b[1;33m\u001b[0m\u001b[1;33m\u001b[0m\u001b[0m\n\u001b[0;32m    681\u001b[0m         \u001b[1;32mexcept\u001b[0m \u001b[0mKeyError\u001b[0m \u001b[1;32mas\u001b[0m \u001b[0merr\u001b[0m\u001b[1;33m:\u001b[0m\u001b[1;33m\u001b[0m\u001b[1;33m\u001b[0m\u001b[0m\n",
      "\u001b[1;31mValueError\u001b[0m: Key figure.figsize: Could not convert 'train' to float"
     ]
    }
   ],
   "source": [
    "fit_and_plot(features[:n_train, :], features[n_train:, :], labels[:n_train],\n",
    "             labels[n_train:])"
   ]
  },
  {
   "cell_type": "code",
   "execution_count": null,
   "metadata": {},
   "outputs": [],
   "source": []
  }
 ],
 "metadata": {
  "kernelspec": {
   "display_name": "Python 3",
   "language": "python",
   "name": "python3"
  },
  "language_info": {
   "codemirror_mode": {
    "name": "ipython",
    "version": 3
   },
   "file_extension": ".py",
   "mimetype": "text/x-python",
   "name": "python",
   "nbconvert_exporter": "python",
   "pygments_lexer": "ipython3",
   "version": "3.8.5"
  }
 },
 "nbformat": 4,
 "nbformat_minor": 4
}
