{
 "cells": [
  {
   "cell_type": "code",
   "execution_count": 1,
   "metadata": {},
   "outputs": [],
   "source": [
    "import torch"
   ]
  },
  {
   "cell_type": "code",
   "execution_count": 2,
   "metadata": {},
   "outputs": [
    {
     "name": "stdout",
     "output_type": "stream",
     "text": [
      "tensor([[1.1708e-19, 7.2128e+22, 9.2216e+29],\n",
      "        [7.5546e+31, 1.6932e+22, 3.0728e+32],\n",
      "        [2.9514e+29, 2.8940e+12, 7.5338e+28],\n",
      "        [1.8037e+28, 3.4740e-12, 1.7743e+28],\n",
      "        [2.0535e-19, 1.4609e-19, 7.5630e+28]])\n"
     ]
    }
   ],
   "source": [
    "#创建一个5x3的未初始化的张量tensor\n",
    "x = torch.empty(5,3)\n",
    "print(x)"
   ]
  },
  {
   "cell_type": "code",
   "execution_count": 3,
   "metadata": {},
   "outputs": [
    {
     "name": "stdout",
     "output_type": "stream",
     "text": [
      "tensor([[0.5051, 0.7981, 0.0038],\n",
      "        [0.6390, 0.3009, 0.3095],\n",
      "        [0.3113, 0.4323, 0.3865],\n",
      "        [0.7518, 0.9457, 0.2597],\n",
      "        [0.9955, 0.7436, 0.8702]])\n"
     ]
    }
   ],
   "source": [
    "#创建一个5x3的随机初始化的张量tensor，rand/randn为均匀或标准分布\n",
    "x = torch.rand(5,3)\n",
    "print(x)"
   ]
  },
  {
   "cell_type": "code",
   "execution_count": 4,
   "metadata": {},
   "outputs": [
    {
     "name": "stdout",
     "output_type": "stream",
     "text": [
      "tensor([[0, 0, 0],\n",
      "        [0, 0, 0],\n",
      "        [0, 0, 0],\n",
      "        [0, 0, 0],\n",
      "        [0, 0, 0]])\n"
     ]
    }
   ],
   "source": [
    "#创建一个5x3的long型全0的张量tensor\n",
    "x = torch.zeros(5, 3, dtype=torch.long)\n",
    "print(x)"
   ]
  },
  {
   "cell_type": "code",
   "execution_count": 5,
   "metadata": {},
   "outputs": [
    {
     "name": "stdout",
     "output_type": "stream",
     "text": [
      "tensor([5.5000, 3.0000])\n"
     ]
    }
   ],
   "source": [
    "#直接根据数据建模\n",
    "x = torch.tensor([5.5, 3])\n",
    "print(x)"
   ]
  },
  {
   "cell_type": "code",
   "execution_count": 7,
   "metadata": {},
   "outputs": [
    {
     "name": "stdout",
     "output_type": "stream",
     "text": [
      "tensor([[1., 1., 1.],\n",
      "        [1., 1., 1.],\n",
      "        [1., 1., 1.],\n",
      "        [1., 1., 1.],\n",
      "        [1., 1., 1.]], dtype=torch.float64)\n",
      "tensor([[ 1.1648,  1.4240,  0.2190],\n",
      "        [-1.3811, -0.8536,  1.2616],\n",
      "        [ 0.5270, -0.5925,  0.4442],\n",
      "        [ 0.2477, -0.0329, -0.5279],\n",
      "        [ 2.1883, -0.3917, -0.5633]])\n"
     ]
    }
   ],
   "source": [
    "#返回的tensor默认具有相同的dtype和device，ones为全1的tensor\n",
    "x = x.new_ones(5, 3, dtype=torch.float64)\n",
    "print(x)\n",
    "\n",
    "#指定新的数据类型\n",
    "x = torch.randn_like(x, dtype=torch.float)\n",
    "print(x)"
   ]
  },
  {
   "cell_type": "code",
   "execution_count": 8,
   "metadata": {},
   "outputs": [
    {
     "name": "stdout",
     "output_type": "stream",
     "text": [
      "torch.Size([5, 3])\n",
      "torch.Size([5, 3])\n"
     ]
    }
   ],
   "source": [
    "#获取tensor的形状,返回的torch.Size是一个元组\n",
    "print(x.size())\n",
    "print(x.shape)"
   ]
  },
  {
   "cell_type": "code",
   "execution_count": 9,
   "metadata": {},
   "outputs": [
    {
     "name": "stdout",
     "output_type": "stream",
     "text": [
      "tensor([[ 1.6472,  1.4311,  0.3658],\n",
      "        [-0.8817, -0.0277,  1.9558],\n",
      "        [ 0.6568,  0.0114,  1.0558],\n",
      "        [ 0.6816,  0.3836,  0.4358],\n",
      "        [ 3.1586, -0.2257,  0.4119]])\n",
      "tensor([[ 1.6472,  1.4311,  0.3658],\n",
      "        [-0.8817, -0.0277,  1.9558],\n",
      "        [ 0.6568,  0.0114,  1.0558],\n",
      "        [ 0.6816,  0.3836,  0.4358],\n",
      "        [ 3.1586, -0.2257,  0.4119]])\n",
      "tensor([[ 1.6472,  1.4311,  0.3658],\n",
      "        [-0.8817, -0.0277,  1.9558],\n",
      "        [ 0.6568,  0.0114,  1.0558],\n",
      "        [ 0.6816,  0.3836,  0.4358],\n",
      "        [ 3.1586, -0.2257,  0.4119]])\n",
      "tensor([[ 1.6472,  1.4311,  0.3658],\n",
      "        [-0.8817, -0.0277,  1.9558],\n",
      "        [ 0.6568,  0.0114,  1.0558],\n",
      "        [ 0.6816,  0.3836,  0.4358],\n",
      "        [ 3.1586, -0.2257,  0.4119]])\n"
     ]
    }
   ],
   "source": [
    "#加法操作\n",
    "y = torch.rand(5,3)\n",
    "\n",
    "print(x + y)\n",
    "\n",
    "print(torch.add(x,y))\n",
    "\n",
    "result = torch.empty(5,3)\n",
    "torch.add(x,y,out=result)\n",
    "print(result)\n",
    "\n",
    "y.add_(x)\n",
    "print(y)"
   ]
  },
  {
   "cell_type": "code",
   "execution_count": 10,
   "metadata": {},
   "outputs": [
    {
     "name": "stdout",
     "output_type": "stream",
     "text": [
      "tensor([2.1648, 2.4240, 1.2190])\n",
      "tensor([2.1648, 2.4240, 1.2190])\n"
     ]
    }
   ],
   "source": [
    "#索引操作，类似于numpy的索引\n",
    "#注意索引出来的结果与原数据共享内存，索引结果修改了，原数据也会跟着被修改\n",
    "\n",
    "y = x[0, :]\n",
    "y += 1\n",
    "print(y)\n",
    "print(x[0, :])"
   ]
  },
  {
   "cell_type": "code",
   "execution_count": 11,
   "metadata": {},
   "outputs": [
    {
     "name": "stdout",
     "output_type": "stream",
     "text": [
      "torch.Size([5, 3]) torch.Size([15]) torch.Size([3, 5])\n"
     ]
    }
   ],
   "source": [
    "#改变形状,view只改变了这个张量的观察角度，内部数据没有改变\n",
    "y = x.view(15)\n",
    "z = x.view(-1, 5)\n",
    "print(x.size(), y.size(), z.size())"
   ]
  },
  {
   "cell_type": "code",
   "execution_count": 13,
   "metadata": {},
   "outputs": [
    {
     "name": "stdout",
     "output_type": "stream",
     "text": [
      "tensor([0.9073])\n",
      "0.9072679281234741\n"
     ]
    }
   ],
   "source": [
    "#item可以将一个标量tensor转换成一个python数字\n",
    "x = torch.randn(1)\n",
    "print(x)\n",
    "print(x.item())"
   ]
  },
  {
   "cell_type": "code",
   "execution_count": null,
   "metadata": {},
   "outputs": [],
   "source": []
  }
 ],
 "metadata": {
  "kernelspec": {
   "display_name": "Python 3",
   "language": "python",
   "name": "python3"
  },
  "language_info": {
   "codemirror_mode": {
    "name": "ipython",
    "version": 3
   },
   "file_extension": ".py",
   "mimetype": "text/x-python",
   "name": "python",
   "nbconvert_exporter": "python",
   "pygments_lexer": "ipython3",
   "version": "3.8.5"
  }
 },
 "nbformat": 4,
 "nbformat_minor": 4
}
