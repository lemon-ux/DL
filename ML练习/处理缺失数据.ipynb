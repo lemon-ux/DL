{
 "metadata": {
  "language_info": {
   "codemirror_mode": {
    "name": "ipython",
    "version": 3
   },
   "file_extension": ".py",
   "mimetype": "text/x-python",
   "name": "python",
   "nbconvert_exporter": "python",
   "pygments_lexer": "ipython3",
   "version": 3
  },
  "orig_nbformat": 2,
  "kernelspec": {
   "name": "python_defaultSpec_1596160086306",
   "display_name": "Python 3.7.0 64-bit"
  }
 },
 "nbformat": 4,
 "nbformat_minor": 2,
 "cells": [
  {
   "cell_type": "code",
   "execution_count": 16,
   "metadata": {},
   "outputs": [],
   "source": [
    "import pandas as pd\n",
    "from io import StringIO"
   ]
  },
  {
   "cell_type": "code",
   "execution_count": 8,
   "metadata": {
    "tags": []
   },
   "outputs": [
    {
     "output_type": "stream",
     "name": "stdout",
     "text": "A     B     C    D\n0   1.0   2.0   NaN  4.0\n1   5.0   6.0   NaN  8.0\n2  10.0  11.0  12.0  NaN\n[[ 1.  2. nan  4.]\n [ 5.  6. nan  8.]\n [10. 11. 12. nan]]\nA    0\nB    0\nC    2\nD    1\ndtype: int64\n"
    }
   ],
   "source": [
    "#识别数据中的缺失值\n",
    "\n",
    "csv_data = \\\n",
    "    '''A,B,C,D\n",
    "    1.0,2.0,,4.0\n",
    "    5.0,6.0,,8.0\n",
    "    10.0,11.0,12.0,\n",
    "    '''\n",
    "#StringIO对字符串进行缓存以便循环利用\n",
    "df = pd.read_csv(StringIO(csv_data))\n",
    "print(df)\n",
    "print(df.values)\n",
    "\n",
    "#isnull()方法返回布尔值的数据帧，1表示表单元数据缺失，0表示包含数字型数值\n",
    "dff = df.isnull().sum()\n",
    "print(dff)"
   ]
  },
  {
   "cell_type": "code",
   "execution_count": 17,
   "metadata": {
    "tags": []
   },
   "outputs": [
    {
     "output_type": "stream",
     "name": "stdout",
     "text": "Empty DataFrame\nColumns: [A, B, C, D]\nIndex: []\n      A     B\n0   1.0   2.0\n1   5.0   6.0\n2  10.0  11.0\n      A     B     C    D\n0   1.0   2.0   NaN  4.0\n1   5.0   6.0   NaN  8.0\n2  10.0  11.0  12.0  NaN\n     A    B   C    D\n0  1.0  2.0 NaN  4.0\n1  5.0  6.0 NaN  8.0\nEmpty DataFrame\nColumns: [A, B, C, D]\nIndex: []\n"
    }
   ],
   "source": [
    "#删除缺失的数据\n",
    "\n",
    "df1 = df.dropna(axis=0)   #删除包含NAN的行\n",
    "df2 = df.dropna(axis=1)   #删除包含NAN的列\n",
    "print(df1)\n",
    "print(df2)\n",
    "\n",
    "#只删除全是NAN的行或者列\n",
    "df3 = df.dropna(how='all')\n",
    "print(df3)\n",
    "#只删除NAN出现在某个特定表单元的行\n",
    "df4 = df.dropna(subset=['D'])\n",
    "print(df4)\n",
    "#删除数据值少于4个的行\n",
    "df5 = df.dropna(thresh=4)\n",
    "print(df5)"
   ]
  },
  {
   "cell_type": "code",
   "execution_count": 23,
   "metadata": {
    "tags": []
   },
   "outputs": [
    {
     "output_type": "stream",
     "name": "stdout",
     "text": "[[ 1.  2. 12.  4.]\n [ 5.  6. 12.  8.]\n [10. 11. 12.  6.]]\n"
    }
   ],
   "source": [
    "#填补缺失的数据\n",
    "\n",
    "from sklearn.impute import SimpleImputer\n",
    "#使用特征列的平均值替换NAN,strategy='most_frequent'表示用最频繁的值替代NAN,median表示用中位数\n",
    "imr = SimpleImputer(strategy='mean')\n",
    "#使用fit求得训练集的均值，方差，最值等\n",
    "imr = imr.fit(df.values)\n",
    "#在fit基础上进行标准化，降维等操作，保证数据处理方式相同\n",
    "imputer_data = imr.transform(df.values)\n",
    "print(imputer_data)"
   ]
  },
  {
   "cell_type": "code",
   "execution_count": null,
   "metadata": {},
   "outputs": [],
   "source": []
  }
 ]
}